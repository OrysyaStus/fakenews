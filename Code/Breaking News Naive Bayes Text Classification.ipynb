{
 "cells": [
  {
   "cell_type": "markdown",
   "metadata": {},
   "source": [
    "# TOPIC: Make News Real Again!\n",
    "\n",
    "Have you ever become frustrated by your inability to tell if the content (articles, tweets, facebook posts, etc.) you are reading on the internet is actually real? With so many voices contributing to the vast quantity of content available on the internet, how do we know which sources we should trust, and which to dismiss?\n",
    "\n",
    "Your challenge is to build a model which will make it easier and more efficient to identify what really is fake news and what is not (+ everything in between). You model should be able to determine a level of credibility, content authenticity, and limit the viral spread of fake content, including fake images."
   ]
  },
  {
   "cell_type": "code",
   "execution_count": 1,
   "metadata": {
    "collapsed": true
   },
   "outputs": [],
   "source": [
    "import pandas as pd\n",
    "import numpy as np"
   ]
  },
  {
   "cell_type": "code",
   "execution_count": 144,
   "metadata": {
    "scrolled": false
   },
   "outputs": [
    {
     "name": "stdout",
     "output_type": "stream",
     "text": [
      "('The shape of the concatenated real file is', (13910, 24))\n",
      "('After dropping null text and duplicate text, the shape of the concatenated real file is', (8460, 24))\n",
      "('After keeping rows with credible site urls, the shape of the real file is', (2768, 24))\n"
     ]
    },
    {
     "data": {
      "text/html": [
       "<div>\n",
       "<table border=\"1\" class=\"dataframe\">\n",
       "  <thead>\n",
       "    <tr style=\"text-align: right;\">\n",
       "      <th></th>\n",
       "      <th>author</th>\n",
       "      <th>comments</th>\n",
       "      <th>crawled</th>\n",
       "      <th>entities</th>\n",
       "      <th>external_links</th>\n",
       "      <th>highlightText</th>\n",
       "      <th>highlightTitle</th>\n",
       "      <th>language</th>\n",
       "      <th>likes</th>\n",
       "      <th>main_image</th>\n",
       "      <th>...</th>\n",
       "      <th>replies_count</th>\n",
       "      <th>shares</th>\n",
       "      <th>site</th>\n",
       "      <th>spam_score</th>\n",
       "      <th>text</th>\n",
       "      <th>thread</th>\n",
       "      <th>title</th>\n",
       "      <th>url</th>\n",
       "      <th>uuid</th>\n",
       "      <th>class</th>\n",
       "    </tr>\n",
       "  </thead>\n",
       "  <tbody>\n",
       "    <tr>\n",
       "      <th>0</th>\n",
       "      <td>NaN</td>\n",
       "      <td>0.0</td>\n",
       "      <td>2017-06-22T09:17:10.016+03:00</td>\n",
       "      <td>{u'persons': [{u'name': u'don lemon', u'sentim...</td>\n",
       "      <td>[]</td>\n",
       "      <td>NaN</td>\n",
       "      <td>NaN</td>\n",
       "      <td>english</td>\n",
       "      <td>2.0</td>\n",
       "      <td>http://i2.cdn.cnn.com/cnnnext/dam/assets/17062...</td>\n",
       "      <td>...</td>\n",
       "      <td>0.0</td>\n",
       "      <td>3.0</td>\n",
       "      <td>www.cnn.com</td>\n",
       "      <td>0.0</td>\n",
       "      <td>MUST WATCH 4-year-old calms mother after Casti...</td>\n",
       "      <td>{u'social': {u'gplus': {u'shares': 1}, u'pinte...</td>\n",
       "      <td>4-year-old calms mother after Castile shooting</td>\n",
       "      <td>http://omgili.com/ri/jHIAmI4hxg.iJPgI2z6a7QKVp...</td>\n",
       "      <td>2831a11f0c5132f3e6f49017a1d83921c8a8ccc2</td>\n",
       "      <td>real</td>\n",
       "    </tr>\n",
       "    <tr>\n",
       "      <th>1</th>\n",
       "      <td>NaN</td>\n",
       "      <td>0.0</td>\n",
       "      <td>2017-06-22T10:00:45.003+03:00</td>\n",
       "      <td>{u'persons': [{u'name': u'don lemon', u'sentim...</td>\n",
       "      <td>[]</td>\n",
       "      <td>NaN</td>\n",
       "      <td>NaN</td>\n",
       "      <td>english</td>\n",
       "      <td>70.0</td>\n",
       "      <td>http://i2.cdn.cnn.com/cnnnext/dam/assets/17062...</td>\n",
       "      <td>...</td>\n",
       "      <td>0.0</td>\n",
       "      <td>70.0</td>\n",
       "      <td>www.cnn.com</td>\n",
       "      <td>0.0</td>\n",
       "      <td>MUST WATCH 4-year-old calms mother after Casti...</td>\n",
       "      <td>{u'social': {u'gplus': {u'shares': 0}, u'pinte...</td>\n",
       "      <td>4-year-old calms mother after Castile shooting</td>\n",
       "      <td>http://omgili.com/ri/jHIAmI4hxg.iJPgI2z6a7QKVp...</td>\n",
       "      <td>6c15f6666f10b4dbb24a32c534fd943c24814bbf</td>\n",
       "      <td>real</td>\n",
       "    </tr>\n",
       "  </tbody>\n",
       "</table>\n",
       "<p>2 rows × 24 columns</p>\n",
       "</div>"
      ],
      "text/plain": [
       "  author  comments                        crawled  \\\n",
       "0    NaN       0.0  2017-06-22T09:17:10.016+03:00   \n",
       "1    NaN       0.0  2017-06-22T10:00:45.003+03:00   \n",
       "\n",
       "                                            entities external_links  \\\n",
       "0  {u'persons': [{u'name': u'don lemon', u'sentim...             []   \n",
       "1  {u'persons': [{u'name': u'don lemon', u'sentim...             []   \n",
       "\n",
       "   highlightText  highlightTitle language  likes  \\\n",
       "0            NaN             NaN  english    2.0   \n",
       "1            NaN             NaN  english   70.0   \n",
       "\n",
       "                                          main_image  ...   replies_count  \\\n",
       "0  http://i2.cdn.cnn.com/cnnnext/dam/assets/17062...  ...             0.0   \n",
       "1  http://i2.cdn.cnn.com/cnnnext/dam/assets/17062...  ...             0.0   \n",
       "\n",
       "   shares         site  spam_score  \\\n",
       "0     3.0  www.cnn.com         0.0   \n",
       "1    70.0  www.cnn.com         0.0   \n",
       "\n",
       "                                                text  \\\n",
       "0  MUST WATCH 4-year-old calms mother after Casti...   \n",
       "1  MUST WATCH 4-year-old calms mother after Casti...   \n",
       "\n",
       "                                              thread  \\\n",
       "0  {u'social': {u'gplus': {u'shares': 1}, u'pinte...   \n",
       "1  {u'social': {u'gplus': {u'shares': 0}, u'pinte...   \n",
       "\n",
       "                                            title  \\\n",
       "0  4-year-old calms mother after Castile shooting   \n",
       "1  4-year-old calms mother after Castile shooting   \n",
       "\n",
       "                                                 url  \\\n",
       "0  http://omgili.com/ri/jHIAmI4hxg.iJPgI2z6a7QKVp...   \n",
       "1  http://omgili.com/ri/jHIAmI4hxg.iJPgI2z6a7QKVp...   \n",
       "\n",
       "                                       uuid class  \n",
       "0  2831a11f0c5132f3e6f49017a1d83921c8a8ccc2  real  \n",
       "1  6c15f6666f10b4dbb24a32c534fd943c24814bbf  real  \n",
       "\n",
       "[2 rows x 24 columns]"
      ]
     },
     "execution_count": 144,
     "metadata": {},
     "output_type": "execute_result"
    }
   ],
   "source": [
    "real1 = pd.read_csv('./real-news/realnews4.csv')\n",
    "real2 = pd.read_csv('./real-news/realnews5.csv')\n",
    "real = pd.concat([real1, real2])\n",
    "real['class'] = 'real'\n",
    "print('The shape of the concatenated real file is', real.shape)\n",
    "real = real.drop_duplicates(subset=['text'], keep='first')\n",
    "real = real.dropna(subset=['text'])\n",
    "real = real.reset_index(drop=True)\n",
    "print('After dropping null text and duplicate text, the shape of the concatenated real file is', real.shape)\n",
    "\n",
    "sites = list(real['site'])\n",
    "real_sites = ['cnn', 'politico', 'abcnews.go', 'google', 'bbc.com', 'economist', 'nytimes', 'pbs', 'cbs', 'nbcnews', 'bloomberg', 'npr', 'c-span', 'independent', 'apnews', 'thehill', 'fivethirtyeight', 'forbes', 'money.cnn']\n",
    "ind = []\n",
    "for j in range(len(sites)):\n",
    "    if any(substring in sites[j] for substring in real_sites) == True:\n",
    "        ind.append(j)\n",
    "    else:\n",
    "        pass\n",
    "real = real[real.index.isin(ind)]\n",
    "real = real.reset_index(drop=True)\n",
    "print('After keeping rows with credible site urls, the shape of the real file is', real.shape )\n",
    "real.head(2)"
   ]
  },
  {
   "cell_type": "code",
   "execution_count": 145,
   "metadata": {},
   "outputs": [
    {
     "name": "stdout",
     "output_type": "stream",
     "text": [
      "('The shape of the data is', (12999, 20))\n",
      "('After dropping null text and duplicate text, the shape of the fake file is', (12431, 21))\n"
     ]
    },
    {
     "data": {
      "text/html": [
       "<div>\n",
       "<table border=\"1\" class=\"dataframe\">\n",
       "  <thead>\n",
       "    <tr style=\"text-align: right;\">\n",
       "      <th></th>\n",
       "      <th>uuid</th>\n",
       "      <th>ord_in_thread</th>\n",
       "      <th>author</th>\n",
       "      <th>published</th>\n",
       "      <th>title</th>\n",
       "      <th>text</th>\n",
       "      <th>language</th>\n",
       "      <th>crawled</th>\n",
       "      <th>site_url</th>\n",
       "      <th>country</th>\n",
       "      <th>...</th>\n",
       "      <th>thread_title</th>\n",
       "      <th>spam_score</th>\n",
       "      <th>main_img_url</th>\n",
       "      <th>replies_count</th>\n",
       "      <th>participants_count</th>\n",
       "      <th>likes</th>\n",
       "      <th>comments</th>\n",
       "      <th>shares</th>\n",
       "      <th>type</th>\n",
       "      <th>class</th>\n",
       "    </tr>\n",
       "  </thead>\n",
       "  <tbody>\n",
       "    <tr>\n",
       "      <th>0</th>\n",
       "      <td>6a175f46bcd24d39b3e962ad0f29936721db70db</td>\n",
       "      <td>0</td>\n",
       "      <td>Barracuda Brigade</td>\n",
       "      <td>2016-10-26T21:41:00.000+03:00</td>\n",
       "      <td>Muslims BUSTED: They Stole Millions In Gov’t B...</td>\n",
       "      <td>Print They should pay all the back all the mon...</td>\n",
       "      <td>english</td>\n",
       "      <td>2016-10-27T01:49:27.168+03:00</td>\n",
       "      <td>100percentfedup.com</td>\n",
       "      <td>US</td>\n",
       "      <td>...</td>\n",
       "      <td>Muslims BUSTED: They Stole Millions In Gov’t B...</td>\n",
       "      <td>0.0</td>\n",
       "      <td>http://bb4sp.com/wp-content/uploads/2016/10/Fu...</td>\n",
       "      <td>0</td>\n",
       "      <td>1</td>\n",
       "      <td>0</td>\n",
       "      <td>0</td>\n",
       "      <td>0</td>\n",
       "      <td>bias</td>\n",
       "      <td>fake</td>\n",
       "    </tr>\n",
       "    <tr>\n",
       "      <th>1</th>\n",
       "      <td>2bdc29d12605ef9cf3f09f9875040a7113be5d5b</td>\n",
       "      <td>0</td>\n",
       "      <td>reasoning with facts</td>\n",
       "      <td>2016-10-29T08:47:11.259+03:00</td>\n",
       "      <td>Re: Why Did Attorney General Loretta Lynch Ple...</td>\n",
       "      <td>Why Did Attorney General Loretta Lynch Plead T...</td>\n",
       "      <td>english</td>\n",
       "      <td>2016-10-29T08:47:11.259+03:00</td>\n",
       "      <td>100percentfedup.com</td>\n",
       "      <td>US</td>\n",
       "      <td>...</td>\n",
       "      <td>Re: Why Did Attorney General Loretta Lynch Ple...</td>\n",
       "      <td>0.0</td>\n",
       "      <td>http://bb4sp.com/wp-content/uploads/2016/10/Fu...</td>\n",
       "      <td>0</td>\n",
       "      <td>1</td>\n",
       "      <td>0</td>\n",
       "      <td>0</td>\n",
       "      <td>0</td>\n",
       "      <td>bias</td>\n",
       "      <td>fake</td>\n",
       "    </tr>\n",
       "  </tbody>\n",
       "</table>\n",
       "<p>2 rows × 21 columns</p>\n",
       "</div>"
      ],
      "text/plain": [
       "                                       uuid  ord_in_thread  \\\n",
       "0  6a175f46bcd24d39b3e962ad0f29936721db70db              0   \n",
       "1  2bdc29d12605ef9cf3f09f9875040a7113be5d5b              0   \n",
       "\n",
       "                 author                      published  \\\n",
       "0     Barracuda Brigade  2016-10-26T21:41:00.000+03:00   \n",
       "1  reasoning with facts  2016-10-29T08:47:11.259+03:00   \n",
       "\n",
       "                                               title  \\\n",
       "0  Muslims BUSTED: They Stole Millions In Gov’t B...   \n",
       "1  Re: Why Did Attorney General Loretta Lynch Ple...   \n",
       "\n",
       "                                                text language  \\\n",
       "0  Print They should pay all the back all the mon...  english   \n",
       "1  Why Did Attorney General Loretta Lynch Plead T...  english   \n",
       "\n",
       "                         crawled             site_url country  ...   \\\n",
       "0  2016-10-27T01:49:27.168+03:00  100percentfedup.com      US  ...    \n",
       "1  2016-10-29T08:47:11.259+03:00  100percentfedup.com      US  ...    \n",
       "\n",
       "                                        thread_title spam_score  \\\n",
       "0  Muslims BUSTED: They Stole Millions In Gov’t B...        0.0   \n",
       "1  Re: Why Did Attorney General Loretta Lynch Ple...        0.0   \n",
       "\n",
       "                                        main_img_url replies_count  \\\n",
       "0  http://bb4sp.com/wp-content/uploads/2016/10/Fu...             0   \n",
       "1  http://bb4sp.com/wp-content/uploads/2016/10/Fu...             0   \n",
       "\n",
       "   participants_count  likes  comments  shares  type class  \n",
       "0                   1      0         0       0  bias  fake  \n",
       "1                   1      0         0       0  bias  fake  \n",
       "\n",
       "[2 rows x 21 columns]"
      ]
     },
     "execution_count": 145,
     "metadata": {},
     "output_type": "execute_result"
    }
   ],
   "source": [
    "fake = pd.read_csv('./fake-news/fake.csv')\n",
    "print('The shape of the data is', fake.shape)\n",
    "fake['class'] = 'fake'\n",
    "fake = fake.drop_duplicates(subset=['text'], keep='first')\n",
    "fake = fake.dropna(subset=['text'])\n",
    "fake = fake.reset_index(drop=True)\n",
    "print('After dropping null text and duplicate text, the shape of the fake file is', fake.shape)\n",
    "fake.head(2)"
   ]
  },
  {
   "cell_type": "code",
   "execution_count": 146,
   "metadata": {},
   "outputs": [
    {
     "name": "stdout",
     "output_type": "stream",
     "text": [
      "('The shape of the concatenated dataset is', (15199, 13))\n"
     ]
    }
   ],
   "source": [
    "real_subset = real.loc[:, [\"author\", \"title\", \"published\", \"site\", \"text\", \"main_image\", \"shares\", \"ord_in_thread\", \"spam_score\", \"participants_count\", \"replies_count\", \"likes\", \"class\"]]\n",
    "fake_subset = fake.loc[:, [\"author\", \"title\", \"published\", \"site_url\", \"text\", \"main_img_url\", \"shares\", \"ord_in_thread\", \"spam_score\", \"participants_count\", \"replies_count\", \"likes\", \"class\"]]\n",
    "fake_subset = fake_subset.rename(index=str, columns={\"site_url\": \"site\", \"main_img_url\": \"main_image\"})\n",
    "data = pd.concat([real_subset, fake_subset])\n",
    "print('The shape of the concatenated dataset is', data.shape)"
   ]
  },
  {
   "cell_type": "code",
   "execution_count": 147,
   "metadata": {
    "collapsed": true
   },
   "outputs": [],
   "source": [
    "from itertools import chain\n",
    "words = list(chain(data['text']))\n",
    "text = []\n",
    "for i in range(len(words)):\n",
    "    w = words[i].decode('utf-8')\n",
    "    w = w.encode('ascii', 'ignore')\n",
    "    text.append(w)\n",
    "data['text'] = text"
   ]
  },
  {
   "cell_type": "code",
   "execution_count": 148,
   "metadata": {
    "collapsed": true
   },
   "outputs": [],
   "source": [
    "# data.to_csv('./real_fake_data.csv', index=False)"
   ]
  },
  {
   "cell_type": "markdown",
   "metadata": {},
   "source": [
    "### Create vocabulary lists \n",
    "Created a list of top 1000 and top 1000 frequency occuring words in fake and real news feed."
   ]
  },
  {
   "cell_type": "code",
   "execution_count": 179,
   "metadata": {
    "collapsed": true
   },
   "outputs": [],
   "source": [
    "data = pd.read_csv('./real_fake_with_sentiment.csv')\n",
    "data = data.dropna(subset=['text'])"
   ]
  },
  {
   "cell_type": "code",
   "execution_count": 180,
   "metadata": {
    "collapsed": true
   },
   "outputs": [],
   "source": [
    "real_text = list(data['text'][data['class'] == 'real'])\n",
    "fake_text = list(data['text'][data['class'] == 'fake'])"
   ]
  },
  {
   "cell_type": "code",
   "execution_count": 181,
   "metadata": {
    "collapsed": true
   },
   "outputs": [],
   "source": [
    "from sklearn.feature_extraction.text import CountVectorizer\n",
    "from sklearn.feature_extraction.text import TfidfTransformer\n",
    "\n",
    "def get_lists(text):\n",
    "    count_vect = CountVectorizer(strip_accents='unicode', decode_error = 'ignore', stop_words='english')\n",
    "    X_train_counts = count_vect.fit_transform(text)\n",
    "    training_feature_names = count_vect.get_feature_names()\n",
    "    \n",
    "    tf_transformer = TfidfTransformer()\n",
    "    X_train_tfidf = tf_transformer.fit_transform(X_train_counts)\n",
    "    \n",
    "    pairs = dict(zip(training_feature_names, np.asarray(X_train_tfidf.mean(axis=0)).ravel()))\n",
    "    sort = sorted(pairs.items(), key=lambda x: -x[1])\n",
    "    sort_tup_1000 = sort[:1000]\n",
    "    sort_tup_5000 = sort[:5000]\n",
    "    \n",
    "    list_1000 = [(i[0]).encode('ascii', 'ignore') for i in sort_tup_1000]\n",
    "    list_5000 = [(i[0]).encode('ascii', 'ignore') for i in sort_tup_5000]\n",
    "    return(list_1000, list_5000)"
   ]
  },
  {
   "cell_type": "code",
   "execution_count": 182,
   "metadata": {
    "collapsed": true
   },
   "outputs": [],
   "source": [
    "real_1000, real_5000 = get_lists(real_text)\n",
    "fake_1000, fake_5000 = get_lists(fake_text)"
   ]
  },
  {
   "cell_type": "markdown",
   "metadata": {},
   "source": [
    "### Training Naive Bayes Classifier using fake_5000 list"
   ]
  },
  {
   "cell_type": "code",
   "execution_count": 290,
   "metadata": {},
   "outputs": [
    {
     "data": {
      "text/plain": [
       "(5768, 16)"
      ]
     },
     "execution_count": 290,
     "metadata": {},
     "output_type": "execute_result"
    }
   ],
   "source": [
    "real = data[data['class'] == 'real']\n",
    "fake = data[data['class'] == 'fake'].sample(n=3000, random_state=0)\n",
    "data = pd.concat([real, fake])\n",
    "data = data.reset_index(drop=True)\n",
    "data.shape"
   ]
  },
  {
   "cell_type": "code",
   "execution_count": 291,
   "metadata": {
    "collapsed": true
   },
   "outputs": [],
   "source": [
    "from sklearn.model_selection import train_test_split\n",
    "X_train, X_test, y_train, y_test = train_test_split(data['text'], data['class'], test_size=0.2, random_state=0)"
   ]
  },
  {
   "cell_type": "code",
   "execution_count": 292,
   "metadata": {},
   "outputs": [
    {
     "data": {
      "text/plain": [
       "(4614, 5000)"
      ]
     },
     "execution_count": 292,
     "metadata": {},
     "output_type": "execute_result"
    }
   ],
   "source": [
    "from sklearn.feature_extraction.text import CountVectorizer\n",
    "count_vect = CountVectorizer(strip_accents='unicode', decode_error = 'ignore', stop_words='english', vocabulary=fake_5000)\n",
    "X_train_counts = count_vect.fit_transform(X_train.values)\n",
    "training_feature_names = count_vect.get_feature_names()\n",
    "X_train_counts.shape"
   ]
  },
  {
   "cell_type": "code",
   "execution_count": 361,
   "metadata": {},
   "outputs": [
    {
     "data": {
      "text/plain": [
       "['vectorizer.pkl']"
      ]
     },
     "execution_count": 361,
     "metadata": {},
     "output_type": "execute_result"
    }
   ],
   "source": [
    "# from sklearn.externals import joblib\n",
    "# joblib.dump(count_vect, 'vectorizer.pkl')"
   ]
  },
  {
   "cell_type": "code",
   "execution_count": 293,
   "metadata": {},
   "outputs": [
    {
     "data": {
      "text/plain": [
       "(4614, 5000)"
      ]
     },
     "execution_count": 293,
     "metadata": {},
     "output_type": "execute_result"
    }
   ],
   "source": [
    "from sklearn.feature_extraction.text import TfidfTransformer\n",
    "tf_transformer = TfidfTransformer()\n",
    "X_train_tfidf = tf_transformer.fit_transform(X_train_counts)\n",
    "X_train_tfidf.shape"
   ]
  },
  {
   "cell_type": "code",
   "execution_count": 294,
   "metadata": {},
   "outputs": [
    {
     "data": {
      "text/plain": [
       "(1154, 5000)"
      ]
     },
     "execution_count": 294,
     "metadata": {},
     "output_type": "execute_result"
    }
   ],
   "source": [
    "count_vect = CountVectorizer(strip_accents='unicode', decode_error = 'ignore', stop_words='english', vocabulary=fake_5000)\n",
    "X_test_counts = count_vect.fit_transform(X_test.values)\n",
    "test_feature_names = count_vect.get_feature_names()\n",
    "X_test_counts.shape\n",
    "\n",
    "tf_transformer = TfidfTransformer()\n",
    "X_test_tfidf = tf_transformer.fit_transform(X_test_counts)\n",
    "X_test_tfidf.shape"
   ]
  },
  {
   "cell_type": "code",
   "execution_count": 295,
   "metadata": {
    "collapsed": true
   },
   "outputs": [],
   "source": [
    "from sklearn.naive_bayes import MultinomialNB\n",
    "clf = MultinomialNB(alpha=1.0).fit(X_train_tfidf, y_train.values)\n",
    "predicted = clf.predict(X_test_tfidf)"
   ]
  },
  {
   "cell_type": "code",
   "execution_count": 296,
   "metadata": {},
   "outputs": [
    {
     "name": "stdout",
     "output_type": "stream",
     "text": [
      "The percentage of instances in class 0 is is 51.91%\n",
      "The percentage of instances in class 1 is is 48.09%\n"
     ]
    }
   ],
   "source": [
    "total = clf.class_count_.sum()\n",
    "counts = list(clf.class_count_)\n",
    "count = 0\n",
    "length = len(counts)\n",
    "for i in range(length):\n",
    "    percentage = ((counts[i])/total) * 100\n",
    "    print 'The percentage of instances in class %s is' %i, 'is {0:.2f}%'.format(percentage)"
   ]
  },
  {
   "cell_type": "code",
   "execution_count": 297,
   "metadata": {},
   "outputs": [
    {
     "data": {
      "text/html": [
       "<div>\n",
       "<table border=\"1\" class=\"dataframe\">\n",
       "  <thead>\n",
       "    <tr style=\"text-align: right;\">\n",
       "      <th></th>\n",
       "      <th>trump</th>\n",
       "      <th>clinton</th>\n",
       "      <th>hillary</th>\n",
       "      <th>people</th>\n",
       "      <th>said</th>\n",
       "      <th>election</th>\n",
       "      <th>2016</th>\n",
       "      <th>new</th>\n",
       "      <th>just</th>\n",
       "      <th>president</th>\n",
       "      <th>...</th>\n",
       "      <th>wallace</th>\n",
       "      <th>cruz</th>\n",
       "      <th>gallup</th>\n",
       "      <th>frame</th>\n",
       "      <th>refers</th>\n",
       "      <th>interior</th>\n",
       "      <th>alter</th>\n",
       "      <th>ranks</th>\n",
       "      <th>sentenced</th>\n",
       "      <th>fiction</th>\n",
       "    </tr>\n",
       "  </thead>\n",
       "  <tbody>\n",
       "    <tr>\n",
       "      <th>fake</th>\n",
       "      <td>96.583148</td>\n",
       "      <td>88.374781</td>\n",
       "      <td>68.681694</td>\n",
       "      <td>59.583297</td>\n",
       "      <td>49.594334</td>\n",
       "      <td>51.072959</td>\n",
       "      <td>60.166027</td>\n",
       "      <td>43.944795</td>\n",
       "      <td>43.662274</td>\n",
       "      <td>39.460122</td>\n",
       "      <td>...</td>\n",
       "      <td>1.532189</td>\n",
       "      <td>0.566917</td>\n",
       "      <td>0.964343</td>\n",
       "      <td>0.850497</td>\n",
       "      <td>1.205574</td>\n",
       "      <td>1.409617</td>\n",
       "      <td>1.314755</td>\n",
       "      <td>1.180335</td>\n",
       "      <td>1.369360</td>\n",
       "      <td>1.866105</td>\n",
       "    </tr>\n",
       "    <tr>\n",
       "      <th>real</th>\n",
       "      <td>67.682125</td>\n",
       "      <td>5.351321</td>\n",
       "      <td>6.144028</td>\n",
       "      <td>40.532792</td>\n",
       "      <td>62.930435</td>\n",
       "      <td>13.140244</td>\n",
       "      <td>7.332797</td>\n",
       "      <td>35.165698</td>\n",
       "      <td>33.927461</td>\n",
       "      <td>38.018772</td>\n",
       "      <td>...</td>\n",
       "      <td>0.128420</td>\n",
       "      <td>4.500937</td>\n",
       "      <td>0.241973</td>\n",
       "      <td>1.094378</td>\n",
       "      <td>0.091428</td>\n",
       "      <td>0.950533</td>\n",
       "      <td>0.228981</td>\n",
       "      <td>1.471970</td>\n",
       "      <td>1.066972</td>\n",
       "      <td>0.599075</td>\n",
       "    </tr>\n",
       "  </tbody>\n",
       "</table>\n",
       "<p>2 rows × 5000 columns</p>\n",
       "</div>"
      ],
      "text/plain": [
       "          trump    clinton    hillary     people       said   election  \\\n",
       "fake  96.583148  88.374781  68.681694  59.583297  49.594334  51.072959   \n",
       "real  67.682125   5.351321   6.144028  40.532792  62.930435  13.140244   \n",
       "\n",
       "           2016        new       just  president    ...      wallace  \\\n",
       "fake  60.166027  43.944795  43.662274  39.460122    ...     1.532189   \n",
       "real   7.332797  35.165698  33.927461  38.018772    ...     0.128420   \n",
       "\n",
       "          cruz    gallup     frame    refers  interior     alter     ranks  \\\n",
       "fake  0.566917  0.964343  0.850497  1.205574  1.409617  1.314755  1.180335   \n",
       "real  4.500937  0.241973  1.094378  0.091428  0.950533  0.228981  1.471970   \n",
       "\n",
       "      sentenced   fiction  \n",
       "fake   1.369360  1.866105  \n",
       "real   1.066972  0.599075  \n",
       "\n",
       "[2 rows x 5000 columns]"
      ]
     },
     "execution_count": 297,
     "metadata": {},
     "output_type": "execute_result"
    }
   ],
   "source": [
    "Pj = clf.feature_count_\n",
    "Pj = pd.DataFrame(Pj, columns= test_feature_names, index = ['fake', 'real'])\n",
    "Pj"
   ]
  },
  {
   "cell_type": "code",
   "execution_count": 298,
   "metadata": {},
   "outputs": [
    {
     "data": {
      "text/plain": [
       "0.8518197573656846"
      ]
     },
     "execution_count": 298,
     "metadata": {},
     "output_type": "execute_result"
    }
   ],
   "source": [
    "from sklearn import metrics\n",
    "metrics.accuracy_score(y_test.values, predicted)"
   ]
  },
  {
   "cell_type": "code",
   "execution_count": 305,
   "metadata": {},
   "outputs": [
    {
     "data": {
      "text/html": [
       "<div>\n",
       "<table border=\"1\" class=\"dataframe\">\n",
       "  <thead>\n",
       "    <tr style=\"text-align: right;\">\n",
       "      <th></th>\n",
       "      <th>prob_fake</th>\n",
       "      <th>prob_real</th>\n",
       "      <th>predicted</th>\n",
       "      <th>real</th>\n",
       "    </tr>\n",
       "  </thead>\n",
       "  <tbody>\n",
       "    <tr>\n",
       "      <th>776</th>\n",
       "      <td>0.422577</td>\n",
       "      <td>0.577423</td>\n",
       "      <td>real</td>\n",
       "      <td>real</td>\n",
       "    </tr>\n",
       "    <tr>\n",
       "      <th>825</th>\n",
       "      <td>0.434884</td>\n",
       "      <td>0.565116</td>\n",
       "      <td>real</td>\n",
       "      <td>real</td>\n",
       "    </tr>\n",
       "    <tr>\n",
       "      <th>4979</th>\n",
       "      <td>0.637397</td>\n",
       "      <td>0.362603</td>\n",
       "      <td>fake</td>\n",
       "      <td>fake</td>\n",
       "    </tr>\n",
       "    <tr>\n",
       "      <th>3583</th>\n",
       "      <td>0.762032</td>\n",
       "      <td>0.237968</td>\n",
       "      <td>fake</td>\n",
       "      <td>fake</td>\n",
       "    </tr>\n",
       "    <tr>\n",
       "      <th>1095</th>\n",
       "      <td>0.415046</td>\n",
       "      <td>0.584954</td>\n",
       "      <td>real</td>\n",
       "      <td>real</td>\n",
       "    </tr>\n",
       "  </tbody>\n",
       "</table>\n",
       "</div>"
      ],
      "text/plain": [
       "      prob_fake  prob_real predicted  real\n",
       "776    0.422577   0.577423      real  real\n",
       "825    0.434884   0.565116      real  real\n",
       "4979   0.637397   0.362603      fake  fake\n",
       "3583   0.762032   0.237968      fake  fake\n",
       "1095   0.415046   0.584954      real  real"
      ]
     },
     "execution_count": 305,
     "metadata": {},
     "output_type": "execute_result"
    }
   ],
   "source": [
    "probs = pd.DataFrame(clf.predict_proba(X_test_tfidf), columns=['prob_fake', 'prob_real'], index=X_test.index)\n",
    "probs['predicted'] = predicted\n",
    "probs['real'] = y_test.values\n",
    "probs.head()"
   ]
  },
  {
   "cell_type": "code",
   "execution_count": 391,
   "metadata": {
    "collapsed": true
   },
   "outputs": [],
   "source": [
    "# a = data.ix[X_train.index]\n",
    "# a['data_type'] ='train'\n",
    "# a['predicted'] = 'pass'\n",
    "# b = data.ix[X_test.index]\n",
    "# b['data_type'] = 'test'\n",
    "# c = pd.concat([probs, b], axis=1)\n",
    "# d = pd.concat([c, a])\n",
    "# d.to_csv('./model_data_into_tableau.csv', index=False)"
   ]
  },
  {
   "cell_type": "code",
   "execution_count": 300,
   "metadata": {},
   "outputs": [
    {
     "data": {
      "image/png": "[encoded data removed]",
      "text/plain": [
       "<matplotlib.figure.Figure at 0x6178e5c0>"
      ]
     },
     "metadata": {},
     "output_type": "display_data"
    }
   ],
   "source": [
    "import seaborn as sns\n",
    "import matplotlib.pyplot as plt\n",
    "%matplotlib inline\n",
    "cm = pd.DataFrame(metrics.confusion_matrix(y_test.values, predicted), columns = ['fake', 'real'])\n",
    "plt.figure(figsize=(5,5))\n",
    "sns.heatmap(cm, annot=True, fmt=\".3f\", linewidth=.5, square = True, cmap = 'Blues_r');\n",
    "plt.ylabel('Actual label');\n",
    "plt.xlabel('Predicted label');\n",
    "plt.title('Confusion Matrix', size = 15);"
   ]
  },
  {
   "cell_type": "code",
   "execution_count": 344,
   "metadata": {
    "collapsed": true
   },
   "outputs": [],
   "source": [
    "# from sklearn.externals import joblib\n",
    "# joblib.dump(clf, 'mnnb_model.pkl')"
   ]
  },
  {
   "cell_type": "markdown",
   "metadata": {},
   "source": [
    "### Descriptive Stats for fake vs. real"
   ]
  },
  {
   "cell_type": "code",
   "execution_count": 339,
   "metadata": {},
   "outputs": [
    {
     "data": {
      "text/html": [
       "<div>\n",
       "<table border=\"1\" class=\"dataframe\">\n",
       "  <thead>\n",
       "    <tr style=\"text-align: right;\">\n",
       "      <th></th>\n",
       "      <th></th>\n",
       "      <th>Unnamed: 0</th>\n",
       "      <th>likes</th>\n",
       "      <th>ord_in_thread</th>\n",
       "      <th>participants_count</th>\n",
       "      <th>polarity</th>\n",
       "      <th>replies_count</th>\n",
       "      <th>shares</th>\n",
       "      <th>spam_score</th>\n",
       "      <th>subjectivity</th>\n",
       "    </tr>\n",
       "    <tr>\n",
       "      <th>class</th>\n",
       "      <th></th>\n",
       "      <th></th>\n",
       "      <th></th>\n",
       "      <th></th>\n",
       "      <th></th>\n",
       "      <th></th>\n",
       "      <th></th>\n",
       "      <th></th>\n",
       "      <th></th>\n",
       "      <th></th>\n",
       "    </tr>\n",
       "  </thead>\n",
       "  <tbody>\n",
       "    <tr>\n",
       "      <th rowspan=\"8\" valign=\"top\">fake</th>\n",
       "      <th>count</th>\n",
       "      <td>3000.000000</td>\n",
       "      <td>3000.000000</td>\n",
       "      <td>3000.000000</td>\n",
       "      <td>3000.000000</td>\n",
       "      <td>3000.000000</td>\n",
       "      <td>3000.000000</td>\n",
       "      <td>3000.000000</td>\n",
       "      <td>3000.000000</td>\n",
       "      <td>3000.000000</td>\n",
       "    </tr>\n",
       "    <tr>\n",
       "      <th>mean</th>\n",
       "      <td>9057.325333</td>\n",
       "      <td>11.981333</td>\n",
       "      <td>0.864333</td>\n",
       "      <td>1.851000</td>\n",
       "      <td>0.069843</td>\n",
       "      <td>1.507667</td>\n",
       "      <td>11.981333</td>\n",
       "      <td>0.026849</td>\n",
       "      <td>0.419061</td>\n",
       "    </tr>\n",
       "    <tr>\n",
       "      <th>std</th>\n",
       "      <td>3596.649977</td>\n",
       "      <td>84.650695</td>\n",
       "      <td>6.385832</td>\n",
       "      <td>7.683476</td>\n",
       "      <td>0.126502</td>\n",
       "      <td>10.539844</td>\n",
       "      <td>84.650695</td>\n",
       "      <td>0.125469</td>\n",
       "      <td>0.150870</td>\n",
       "    </tr>\n",
       "    <tr>\n",
       "      <th>min</th>\n",
       "      <td>2777.000000</td>\n",
       "      <td>0.000000</td>\n",
       "      <td>0.000000</td>\n",
       "      <td>0.000000</td>\n",
       "      <td>-0.800000</td>\n",
       "      <td>0.000000</td>\n",
       "      <td>0.000000</td>\n",
       "      <td>0.000000</td>\n",
       "      <td>0.000000</td>\n",
       "    </tr>\n",
       "    <tr>\n",
       "      <th>25%</th>\n",
       "      <td>5929.500000</td>\n",
       "      <td>0.000000</td>\n",
       "      <td>0.000000</td>\n",
       "      <td>1.000000</td>\n",
       "      <td>0.005621</td>\n",
       "      <td>0.000000</td>\n",
       "      <td>0.000000</td>\n",
       "      <td>0.000000</td>\n",
       "      <td>0.367190</td>\n",
       "    </tr>\n",
       "    <tr>\n",
       "      <th>50%</th>\n",
       "      <td>9160.500000</td>\n",
       "      <td>0.000000</td>\n",
       "      <td>0.000000</td>\n",
       "      <td>1.000000</td>\n",
       "      <td>0.064699</td>\n",
       "      <td>0.000000</td>\n",
       "      <td>0.000000</td>\n",
       "      <td>0.000000</td>\n",
       "      <td>0.433333</td>\n",
       "    </tr>\n",
       "    <tr>\n",
       "      <th>75%</th>\n",
       "      <td>12186.000000</td>\n",
       "      <td>0.000000</td>\n",
       "      <td>0.000000</td>\n",
       "      <td>1.000000</td>\n",
       "      <td>0.120827</td>\n",
       "      <td>0.000000</td>\n",
       "      <td>0.000000</td>\n",
       "      <td>0.000000</td>\n",
       "      <td>0.493259</td>\n",
       "    </tr>\n",
       "    <tr>\n",
       "      <th>max</th>\n",
       "      <td>15198.000000</td>\n",
       "      <td>985.000000</td>\n",
       "      <td>99.000000</td>\n",
       "      <td>240.000000</td>\n",
       "      <td>1.000000</td>\n",
       "      <td>309.000000</td>\n",
       "      <td>985.000000</td>\n",
       "      <td>1.000000</td>\n",
       "      <td>1.000000</td>\n",
       "    </tr>\n",
       "    <tr>\n",
       "      <th rowspan=\"8\" valign=\"top\">real</th>\n",
       "      <th>count</th>\n",
       "      <td>2768.000000</td>\n",
       "      <td>2768.000000</td>\n",
       "      <td>2768.000000</td>\n",
       "      <td>2768.000000</td>\n",
       "      <td>2768.000000</td>\n",
       "      <td>2768.000000</td>\n",
       "      <td>2768.000000</td>\n",
       "      <td>2768.000000</td>\n",
       "      <td>2768.000000</td>\n",
       "    </tr>\n",
       "    <tr>\n",
       "      <th>mean</th>\n",
       "      <td>1383.500000</td>\n",
       "      <td>73.742413</td>\n",
       "      <td>40.535766</td>\n",
       "      <td>24.065390</td>\n",
       "      <td>0.069023</td>\n",
       "      <td>44.867052</td>\n",
       "      <td>80.287572</td>\n",
       "      <td>0.045472</td>\n",
       "      <td>0.419260</td>\n",
       "    </tr>\n",
       "    <tr>\n",
       "      <th>std</th>\n",
       "      <td>799.197097</td>\n",
       "      <td>199.252310</td>\n",
       "      <td>72.398519</td>\n",
       "      <td>36.399091</td>\n",
       "      <td>0.192788</td>\n",
       "      <td>74.470406</td>\n",
       "      <td>214.763360</td>\n",
       "      <td>0.173535</td>\n",
       "      <td>0.207114</td>\n",
       "    </tr>\n",
       "    <tr>\n",
       "      <th>min</th>\n",
       "      <td>0.000000</td>\n",
       "      <td>0.000000</td>\n",
       "      <td>0.000000</td>\n",
       "      <td>0.000000</td>\n",
       "      <td>-1.000000</td>\n",
       "      <td>0.000000</td>\n",
       "      <td>0.000000</td>\n",
       "      <td>0.000000</td>\n",
       "      <td>0.000000</td>\n",
       "    </tr>\n",
       "    <tr>\n",
       "      <th>25%</th>\n",
       "      <td>691.750000</td>\n",
       "      <td>0.000000</td>\n",
       "      <td>0.000000</td>\n",
       "      <td>0.000000</td>\n",
       "      <td>0.000000</td>\n",
       "      <td>0.000000</td>\n",
       "      <td>0.000000</td>\n",
       "      <td>0.000000</td>\n",
       "      <td>0.337150</td>\n",
       "    </tr>\n",
       "    <tr>\n",
       "      <th>50%</th>\n",
       "      <td>1383.500000</td>\n",
       "      <td>0.000000</td>\n",
       "      <td>2.000000</td>\n",
       "      <td>4.000000</td>\n",
       "      <td>0.069056</td>\n",
       "      <td>4.000000</td>\n",
       "      <td>0.000000</td>\n",
       "      <td>0.000000</td>\n",
       "      <td>0.423549</td>\n",
       "    </tr>\n",
       "    <tr>\n",
       "      <th>75%</th>\n",
       "      <td>2075.250000</td>\n",
       "      <td>4.000000</td>\n",
       "      <td>39.000000</td>\n",
       "      <td>30.000000</td>\n",
       "      <td>0.150000</td>\n",
       "      <td>54.000000</td>\n",
       "      <td>6.000000</td>\n",
       "      <td>0.000000</td>\n",
       "      <td>0.507765</td>\n",
       "    </tr>\n",
       "    <tr>\n",
       "      <th>max</th>\n",
       "      <td>2767.000000</td>\n",
       "      <td>995.000000</td>\n",
       "      <td>386.000000</td>\n",
       "      <td>202.000000</td>\n",
       "      <td>1.000000</td>\n",
       "      <td>386.000000</td>\n",
       "      <td>2278.000000</td>\n",
       "      <td>1.000000</td>\n",
       "      <td>1.000000</td>\n",
       "    </tr>\n",
       "  </tbody>\n",
       "</table>\n",
       "</div>"
      ],
      "text/plain": [
       "               Unnamed: 0        likes  ord_in_thread  participants_count  \\\n",
       "class                                                                       \n",
       "fake  count   3000.000000  3000.000000    3000.000000         3000.000000   \n",
       "      mean    9057.325333    11.981333       0.864333            1.851000   \n",
       "      std     3596.649977    84.650695       6.385832            7.683476   \n",
       "      min     2777.000000     0.000000       0.000000            0.000000   \n",
       "      25%     5929.500000     0.000000       0.000000            1.000000   \n",
       "      50%     9160.500000     0.000000       0.000000            1.000000   \n",
       "      75%    12186.000000     0.000000       0.000000            1.000000   \n",
       "      max    15198.000000   985.000000      99.000000          240.000000   \n",
       "real  count   2768.000000  2768.000000    2768.000000         2768.000000   \n",
       "      mean    1383.500000    73.742413      40.535766           24.065390   \n",
       "      std      799.197097   199.252310      72.398519           36.399091   \n",
       "      min        0.000000     0.000000       0.000000            0.000000   \n",
       "      25%      691.750000     0.000000       0.000000            0.000000   \n",
       "      50%     1383.500000     0.000000       2.000000            4.000000   \n",
       "      75%     2075.250000     4.000000      39.000000           30.000000   \n",
       "      max     2767.000000   995.000000     386.000000          202.000000   \n",
       "\n",
       "                polarity  replies_count       shares   spam_score  \\\n",
       "class                                                               \n",
       "fake  count  3000.000000    3000.000000  3000.000000  3000.000000   \n",
       "      mean      0.069843       1.507667    11.981333     0.026849   \n",
       "      std       0.126502      10.539844    84.650695     0.125469   \n",
       "      min      -0.800000       0.000000     0.000000     0.000000   \n",
       "      25%       0.005621       0.000000     0.000000     0.000000   \n",
       "      50%       0.064699       0.000000     0.000000     0.000000   \n",
       "      75%       0.120827       0.000000     0.000000     0.000000   \n",
       "      max       1.000000     309.000000   985.000000     1.000000   \n",
       "real  count  2768.000000    2768.000000  2768.000000  2768.000000   \n",
       "      mean      0.069023      44.867052    80.287572     0.045472   \n",
       "      std       0.192788      74.470406   214.763360     0.173535   \n",
       "      min      -1.000000       0.000000     0.000000     0.000000   \n",
       "      25%       0.000000       0.000000     0.000000     0.000000   \n",
       "      50%       0.069056       4.000000     0.000000     0.000000   \n",
       "      75%       0.150000      54.000000     6.000000     0.000000   \n",
       "      max       1.000000     386.000000  2278.000000     1.000000   \n",
       "\n",
       "             subjectivity  \n",
       "class                      \n",
       "fake  count   3000.000000  \n",
       "      mean       0.419061  \n",
       "      std        0.150870  \n",
       "      min        0.000000  \n",
       "      25%        0.367190  \n",
       "      50%        0.433333  \n",
       "      75%        0.493259  \n",
       "      max        1.000000  \n",
       "real  count   2768.000000  \n",
       "      mean       0.419260  \n",
       "      std        0.207114  \n",
       "      min        0.000000  \n",
       "      25%        0.337150  \n",
       "      50%        0.423549  \n",
       "      75%        0.507765  \n",
       "      max        1.000000  "
      ]
     },
     "execution_count": 339,
     "metadata": {},
     "output_type": "execute_result"
    }
   ],
   "source": [
    "data.groupby('class').describe()"
   ]
  },
  {
   "cell_type": "code",
   "execution_count": null,
   "metadata": {
    "collapsed": true
   },
   "outputs": [],
   "source": []
  }
 ],
 "metadata": {
  "anaconda-cloud": {},
  "kernelspec": {
   "display_name": "Python [conda env:py27]",
   "language": "python",
   "name": "conda-env-py27-py"
  },
  "language_info": {
   "codemirror_mode": {
    "name": "ipython",
    "version": 2
   },
   "file_extension": ".py",
   "mimetype": "text/x-python",
   "name": "python",
   "nbconvert_exporter": "python",
   "pygments_lexer": "ipython2",
   "version": "2.7.13"
  }
 },
 "nbformat": 4,
 "nbformat_minor": 1
}
